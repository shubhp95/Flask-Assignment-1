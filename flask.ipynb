{
 "cells": [
  {
   "cell_type": "code",
   "execution_count": 3,
   "id": "26fa052a-d3af-4bb0-bf74-35b46eda346e",
   "metadata": {},
   "outputs": [],
   "source": [
    "#Ans1:Flask is a lightweight and flexible web framework for Python. It is designed to be simple and easy to use while providing the essential tools needed to build web applications. Flask follows the WSGI (Web Server Gateway Interface) specification and is often categorized as a microframework because it provides the basics needed to get an application up and running\n",
    "#Advantages:\n",
    "#1.Lightweight and Minimalistic: Provides a minimal core with optional components.\n",
    "#2.Easy to Learn and Use: Simple to understand with clear documentation.\n",
    "#3.Flexibility: Allows for custom project structures and configurations.\n",
    "#4.Extensibility: Supports numerous extensions for added functionality.\n",
    "\n",
    "\n"
   ]
  },
  {
   "cell_type": "code",
   "execution_count": 7,
   "id": "4039fa30-ad27-4b12-9f50-506e553d41f4",
   "metadata": {},
   "outputs": [],
   "source": [
    "#Ans2:\n",
    "from flask import Flask\n",
    "\n",
    "# Create an instance of the Flask class\n",
    "app = Flask(__name__)\n",
    "\n",
    "# Define a route for the root URL\n",
    "@app.route('/')\n",
    "def hello_world():\n",
    "    return 'Hello World!!'\n",
    "\n",
    "# Run the application\n",
    "if __name__ == '__main__':\n",
    "    app.run(debug=True)\n"
   ]
  },
  {
   "cell_type": "code",
   "execution_count": 1,
   "id": "c60a6d6a-076d-498e-ba58-b37f6ad139f7",
   "metadata": {},
   "outputs": [],
   "source": [
    "#Ans3: App routing in Flask refers to the mechanism that maps URLs to functions in your Flask application. This allows you to define what happens when a user navigates to a specific URL in your web application.\n",
    "#Uses\n",
    "#1.Handling Different Requests\n",
    "#2.Separation of Concerns\n",
    "#3.Dynamic URL Handling\n",
    "#4.URL Mapping"
   ]
  },
  {
   "cell_type": "code",
   "execution_count": null,
   "id": "3e2d5e30-0af4-4c46-867d-11c343b634b3",
   "metadata": {},
   "outputs": [],
   "source": [
    "#Ans4: \n",
    "from flask import Flask # type: ignore\n",
    "app = Flask(__name__)\n",
    "@app.route('/welcome')\n",
    "def welcome():\n",
    "    return 'Welcome to ABC Corporation'\n",
    "@app.route('/')\n",
    "def home():\n",
    "    return '''\n",
    "    <h1>Company Details</h1>\n",
    "    <p><strong>Company Name:</strong> ABC Corporation</p>\n",
    "    <p><strong>Location:</strong> India</p>\n",
    "    <p><strong>Contact Detail:</strong> 999-999-9999</p>\n",
    "    '''\n",
    "if __name__ == '__main__':\n",
    "    app.run(debug=True)\n"
   ]
  },
  {
   "cell_type": "code",
   "execution_count": null,
   "id": "21e538e6-e1f3-46c5-8167-7e9745458d85",
   "metadata": {},
   "outputs": [],
   "source": [
    "#Ans5:\n",
    "#url_for()\n",
    "#Dynamic URL Generation: Generates URLs for routes based on the function names, making your code more maintainable.\n",
    "def urls():\n",
    "    home_url = url_for('home')\n",
    "    about_url = url_for('about')\n",
    "    contact_url = url_for('contact')\n",
    "    \n",
    "    return render_template_string('''\n",
    "    <h1>URL for Different Routes</h1>\n",
    "    <p><a href=\"{{ home_url }}\">Home</a></p>\n",
    "    <p><a href=\"{{ about_url }}\">About</a></p>\n",
    "    <p><a href=\"{{ contact_url }}\">Contact</a></p>\n",
    "    ''', home_url=home_url, about_url=about_url, contact_url=contact_url)\n"
   ]
  },
  {
   "cell_type": "code",
   "execution_count": null,
   "id": "c92ff75e-2eea-4e1d-945c-947bbeb5f79a",
   "metadata": {},
   "outputs": [],
   "source": []
  },
  {
   "cell_type": "code",
   "execution_count": null,
   "id": "1e8868df-7d20-4247-a2d8-ebbc7203e89f",
   "metadata": {},
   "outputs": [],
   "source": []
  }
 ],
 "metadata": {
  "kernelspec": {
   "display_name": "Python 3 (ipykernel)",
   "language": "python",
   "name": "python3"
  },
  "language_info": {
   "codemirror_mode": {
    "name": "ipython",
    "version": 3
   },
   "file_extension": ".py",
   "mimetype": "text/x-python",
   "name": "python",
   "nbconvert_exporter": "python",
   "pygments_lexer": "ipython3",
   "version": "3.12.4"
  }
 },
 "nbformat": 4,
 "nbformat_minor": 5
}
